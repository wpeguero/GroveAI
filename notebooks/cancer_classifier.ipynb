{
 "cells": [
  {
   "cell_type": "markdown",
   "metadata": {},
   "source": [
    "# Classifier for Lung Cancer\n",
    "This is the basics for using the pyblight library to train a machine learning model. The purpose of this library is to develop efficient tumor classifiers that will liberate radiologists from having to diagnose large number of patients based on image data all the while focusing on the rarer cases.\n",
    "\n",
    "## Purpose of the notebook\n",
    "- Show how machine learning algorithms and the pytorch library can be used to classify tumors\n",
    "\n",
    "- How to set up data from the cancer imaging archive (tcia) for training ML models\n",
    "\n",
    "- The result of images\n",
    "\n",
    "- Process images for normalization"
   ]
  },
  {
   "cell_type": "markdown",
   "metadata": {},
   "source": [
    "## Business Understanding\n",
    "- Mortality rate for cancer has been increasing gradually throughout time.\n",
    "- Three general areas are used to measure the progress of the fight against cancer\n",
    "    1. direct measures (mortality, incidence, and survival)\n",
    "    2. portents of change (reductions in tobacco use)\n",
    "    3. advances in knowledge that may have an effect on the future."
   ]
  },
  {
   "cell_type": "markdown",
   "metadata": {},
   "source": [
    "## Data Understanding\n",
    "- Cancer imaging data is the main source used by radiologists to diagnose tumors.\n",
    "- The image itself is developed through a CT scan\n",
    "    - This allows one to highlight certain features within the body based on the water content (which shows up as brighter pixels within the image).\n",
    "- Main data form is DICOM files\n",
    "    - These files contain a set of images that symbolize a different slice from the DICOM file.\n"
   ]
  },
  {
   "cell_type": "markdown",
   "metadata": {},
   "source": [
    "## Data Preparation\n",
    "- To use the image data, one first has to load the images from the dicom file.\n",
    "- The data may be obfuscated within a set of folders that make organizing the images more difficult."
   ]
  },
  {
   "cell_type": "code",
   "execution_count": null,
   "metadata": {},
   "outputs": [],
   "source": []
  },
  {
   "cell_type": "markdown",
   "metadata": {},
   "source": [
    "## Sources\n",
    "1. [Cancer Undefeated](https://www.nejm.org/doi/full/10.1056/NEJM199705293362206)"
   ]
  }
 ],
 "metadata": {
  "kernelspec": {
   "display_name": ".blightenv",
   "language": "python",
   "name": "python3"
  },
  "language_info": {
   "name": "python",
   "version": "3.11.8"
  }
 },
 "nbformat": 4,
 "nbformat_minor": 2
}
